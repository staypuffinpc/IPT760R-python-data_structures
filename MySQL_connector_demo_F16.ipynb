{
 "cells": [
  {
   "cell_type": "markdown",
   "metadata": {},
   "source": [
    "# Super Simple python to MySQL connection demonstration\n",
    "1. Make sure you have a MySQL db set up and the username/password to access that db\n",
    "2. Import mysql-connector-python into your python installation on your own machine\n",
    "3. Run commands below to insert, update and select records\n",
    "4. Go to http://dev.mysql.com/doc/connector-python/en/connector-python-introduction.html to learn about all the fun things you can do with this connector"
   ]
  },
  {
   "cell_type": "code",
   "execution_count": 45,
   "metadata": {
    "collapsed": false
   },
   "outputs": [
    {
     "name": "stdout",
     "output_type": "stream",
     "text": [
      "<mysql.connector.connection.MySQLConnection object at 0x107efaeb8>\n"
     ]
    }
   ],
   "source": [
    "#Establish connection\n",
    "import mysql.connector\n",
    "from mysql.connector import errorcode\n",
    "\n",
    "#connect to db with credentials (NOTE: This should really be stored in a separate file and called here)\n",
    "try:\n",
    "    cnx = mysql.connector.connect(user='root', password='root', host='127.0.0.1',database='Gradebook_F16') \n",
    "    #note that we want to ID the correct port.  Default MySQL is 3306\n",
    "    print (cnx)\n",
    "except mysql.connector.Error as err:\n",
    "    if err.errno == errorcode.ER_ACCESS_DENIED_ERROR:\n",
    "        print (\"Sorry, that's not the right username or password\")\n",
    "    elif err.errno == errorcode.ER_BAD_DB_ERROR:\n",
    "        print (\"DB doesn't exist\")\n",
    "    else:\n",
    "        print (err)\n",
    "\n",
    "cursor = cnx.cursor()"
   ]
  },
  {
   "cell_type": "code",
   "execution_count": 46,
   "metadata": {
    "collapsed": false
   },
   "outputs": [
    {
     "name": "stdout",
     "output_type": "stream",
     "text": [
      "None\n"
     ]
    }
   ],
   "source": [
    "#INSERT query\n",
    "\n",
    "# query = ('''SELECT title,description FROM  `Assignments` ''')\n",
    "query = ('''INSERT INTO `Gradebook_F16`.`Assignments` \n",
    " (`assignment_id`, `title`, `description`, `due`, `points_possible`) \n",
    " VALUES (NULL, 'Fall 20`6 Tuesday class test', 'This better NOT work', CURRENT_TIMESTAMP, '57')''')\n",
    "\n",
    "results = cursor.execute(query)\n",
    "cnx.commit() #have to \"commit\" when making changes to the DB\n",
    "\n",
    "print (results)"
   ]
  },
  {
   "cell_type": "code",
   "execution_count": 47,
   "metadata": {
    "collapsed": false
   },
   "outputs": [
    {
     "name": "stdout",
     "output_type": "stream",
     "text": [
      "None\n"
     ]
    }
   ],
   "source": [
    "#UPDATE query\n",
    "\n",
    "query = ('''UPDATE `Gradebook_F16`.`Assignments` \n",
    "SET  `course_id` =  1 WHERE  `Assignments`.`assignment_id` =7;''')\n",
    "\n",
    "results = cursor.execute(query)\n",
    "cnx.commit() #for changes\n",
    "print (results)\n",
    "\n",
    "#note that it returns \"None\" even though the record was updated"
   ]
  },
  {
   "cell_type": "code",
   "execution_count": 53,
   "metadata": {
    "collapsed": false
   },
   "outputs": [
    {
     "ename": "ProgrammingError",
     "evalue": "Cursor is not connected.",
     "output_type": "error",
     "traceback": [
      "\u001b[0;31m---------------------------------------------------------------------------\u001b[0m",
      "\u001b[0;31mProgrammingError\u001b[0m                          Traceback (most recent call last)",
      "\u001b[0;32m<ipython-input-53-e844ddc5452a>\u001b[0m in \u001b[0;36m<module>\u001b[0;34m()\u001b[0m\n\u001b[1;32m      1\u001b[0m \u001b[0;31m# SELECT all student info\u001b[0m\u001b[0;34m\u001b[0m\u001b[0;34m\u001b[0m\u001b[0m\n\u001b[1;32m      2\u001b[0m \u001b[0mquery\u001b[0m \u001b[0;34m=\u001b[0m \u001b[0;34m(\u001b[0m\u001b[0;34m'''SELECT first_name, last_name, email FROM `Students`'''\u001b[0m\u001b[0;34m)\u001b[0m\u001b[0;34m\u001b[0m\u001b[0m\n\u001b[0;32m----> 3\u001b[0;31m \u001b[0mresults\u001b[0m \u001b[0;34m=\u001b[0m \u001b[0mcursor\u001b[0m\u001b[0;34m.\u001b[0m\u001b[0mexecute\u001b[0m\u001b[0;34m(\u001b[0m\u001b[0mquery\u001b[0m\u001b[0;34m)\u001b[0m\u001b[0;34m\u001b[0m\u001b[0m\n\u001b[0m\u001b[1;32m      4\u001b[0m \u001b[0;34m\u001b[0m\u001b[0m\n\u001b[1;32m      5\u001b[0m \u001b[0;31m#show the structure of the cursor\u001b[0m\u001b[0;34m\u001b[0m\u001b[0;34m\u001b[0m\u001b[0m\n",
      "\u001b[0;32m/Users/peterrich/anaconda/lib/python3.5/site-packages/mysql/connector/cursor.py\u001b[0m in \u001b[0;36mexecute\u001b[0;34m(self, operation, params, multi)\u001b[0m\n\u001b[1;32m    472\u001b[0m \u001b[0;34m\u001b[0m\u001b[0m\n\u001b[1;32m    473\u001b[0m         \u001b[0;32mif\u001b[0m \u001b[0;32mnot\u001b[0m \u001b[0mself\u001b[0m\u001b[0;34m.\u001b[0m\u001b[0m_connection\u001b[0m\u001b[0;34m:\u001b[0m\u001b[0;34m\u001b[0m\u001b[0m\n\u001b[0;32m--> 474\u001b[0;31m             \u001b[0;32mraise\u001b[0m \u001b[0merrors\u001b[0m\u001b[0;34m.\u001b[0m\u001b[0mProgrammingError\u001b[0m\u001b[0;34m(\u001b[0m\u001b[0;34m\"Cursor is not connected.\"\u001b[0m\u001b[0;34m)\u001b[0m\u001b[0;34m\u001b[0m\u001b[0m\n\u001b[0m\u001b[1;32m    475\u001b[0m         \u001b[0;32mif\u001b[0m \u001b[0mself\u001b[0m\u001b[0;34m.\u001b[0m\u001b[0m_connection\u001b[0m\u001b[0;34m.\u001b[0m\u001b[0munread_result\u001b[0m \u001b[0;32mis\u001b[0m \u001b[0;32mTrue\u001b[0m\u001b[0;34m:\u001b[0m\u001b[0;34m\u001b[0m\u001b[0m\n\u001b[1;32m    476\u001b[0m             \u001b[0;32mraise\u001b[0m \u001b[0merrors\u001b[0m\u001b[0;34m.\u001b[0m\u001b[0mInternalError\u001b[0m\u001b[0;34m(\u001b[0m\u001b[0;34m\"Unread result found.\"\u001b[0m\u001b[0;34m)\u001b[0m\u001b[0;34m\u001b[0m\u001b[0m\n",
      "\u001b[0;31mProgrammingError\u001b[0m: Cursor is not connected."
     ]
    }
   ],
   "source": [
    "# SELECT all student info\n",
    "query = ('''SELECT first_name, last_name, email FROM `Students`''')\n",
    "results = cursor.execute(query)\n",
    "\n",
    "#show the structure of the cursor\n",
    "for item in cursor:\n",
    "    print (item)\n",
    "\n",
    "# for (last, first, email) in cursor: #note that the order of the variables is the order in which they were selected in the query\n",
    "#     print (last, first, email)"
   ]
  },
  {
   "cell_type": "code",
   "execution_count": 51,
   "metadata": {
    "collapsed": true
   },
   "outputs": [],
   "source": [
    "# DELETE\n",
    "query = ('''DELETE from `Assignments` WHERE `assignment_id` = 7''')\n",
    "results = cursor.execute(query)\n",
    "cnx.commit()"
   ]
  },
  {
   "cell_type": "code",
   "execution_count": 52,
   "metadata": {
    "collapsed": true
   },
   "outputs": [],
   "source": [
    "#good idea to close your db connection when finished\n",
    "cursor.close()\n",
    "cnx.close()"
   ]
  }
 ],
 "metadata": {
  "kernelspec": {
   "display_name": "Python [Root]",
   "language": "python",
   "name": "Python [Root]"
  },
  "language_info": {
   "codemirror_mode": {
    "name": "ipython",
    "version": 3
   },
   "file_extension": ".py",
   "mimetype": "text/x-python",
   "name": "python",
   "nbconvert_exporter": "python",
   "pygments_lexer": "ipython3",
   "version": "3.5.2"
  }
 },
 "nbformat": 4,
 "nbformat_minor": 0
}
