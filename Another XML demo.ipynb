{
 "cells": [
  {
   "cell_type": "code",
   "execution_count": 28,
   "metadata": {
    "collapsed": true
   },
   "outputs": [],
   "source": [
    "#PURPOSE: to demonstrate how to access and change information an XML file\n",
    "\n",
    "import xml.etree.ElementTree as ET #get entire file as a tree object\n",
    "tree = ET.parse('books.xml')\n",
    "root = tree.getroot()"
   ]
  },
  {
   "cell_type": "code",
   "execution_count": 29,
   "metadata": {
    "collapsed": false
   },
   "outputs": [
    {
     "name": "stdout",
     "output_type": "stream",
     "text": [
      "<Element 'bookstore' at 0x107934958>\n",
      "Root: bookstore\n",
      "{'name': \"Peter's Pretty Pieces\", 'id': 'PPP'}\n",
      "[('name', \"Peter's Pretty Pieces\"), ('id', 'PPP')]\n"
     ]
    }
   ],
   "source": [
    "print (root)\n",
    "print (\"Root:\",root.tag) #find out what the root tag is for this file\n",
    "print (root.attrib) #for root attributes as a dict\n",
    "print (root.items())"
   ]
  },
  {
   "cell_type": "code",
   "execution_count": 30,
   "metadata": {
    "collapsed": false
   },
   "outputs": [
    {
     "name": "stdout",
     "output_type": "stream",
     "text": [
      "book : {'category': 'cooking'}\n",
      "book : {'category': 'children'}\n",
      "book : {'category': 'web'}\n",
      "book : {'cover': 'paperback', 'category': 'web'}\n",
      "magazine : {}\n"
     ]
    }
   ],
   "source": [
    "#iterate over the children in root\n",
    "for child in root:\n",
    "    print (child.tag,\":\",child.attrib)"
   ]
  },
  {
   "cell_type": "code",
   "execution_count": 31,
   "metadata": {
    "collapsed": false
   },
   "outputs": [
    {
     "name": "stdout",
     "output_type": "stream",
     "text": [
      "title : La chica bonita\n",
      "author : Fulano\n"
     ]
    }
   ],
   "source": [
    "#access a specific node within root\n",
    "print (root[4][0].tag,\":\",root[4][0].text)\n",
    "print (root[4][1].tag,\":\",root[4][1].text)"
   ]
  },
  {
   "cell_type": "code",
   "execution_count": 32,
   "metadata": {
    "collapsed": false
   },
   "outputs": [
    {
     "name": "stdout",
     "output_type": "stream",
     "text": [
      "Everyday Italian\n",
      "Giada De Laurentiis\n",
      "______________\n",
      "Harry Potter\n",
      "J K. Rowling\n",
      "______________\n",
      "XQuery Kick Start\n",
      "James McGovern\n",
      "Per Bothner\n",
      "Kurt Cagle\n",
      "James Linn\n",
      "Vaidyanathan Nagarajan\n",
      "______________\n",
      "Learning XML\n",
      "Erik T. Ray\n",
      "______________\n"
     ]
    }
   ],
   "source": [
    "#dig down within specific nodes\n",
    "for book in root.findall('book'):\n",
    "    title = book.find('title').text\n",
    "    print (title)\n",
    "    for author in book.findall('author'): #now look for just the authors pertaining to this node\n",
    "        print (author.text)\n",
    "    print (\"______________\")"
   ]
  },
  {
   "cell_type": "code",
   "execution_count": 35,
   "metadata": {
    "collapsed": false
   },
   "outputs": [
    {
     "name": "stdout",
     "output_type": "stream",
     "text": [
      "\n",
      "     ru\n",
      "La chica bonita es\n",
      "Fulano ru\n",
      "2015 ru\n",
      "1 ru\n",
      "2 ru\n",
      "demasiado ru\n"
     ]
    }
   ],
   "source": [
    "#get the value of a specific attribute\n",
    "for book in root.findall(\"magazine\"):\n",
    "    for info in book.iter(): #note that the iter() method gets all levels of elements\n",
    "        text = info.text\n",
    "        lang = info.get(\"lang\") #get the language attribute\n",
    "        if lang == None: \n",
    "            info.set(\"lang\",\"ru\")#set an attribute (note the dbl quotes)\n",
    "        print (text, lang)"
   ]
  },
  {
   "cell_type": "code",
   "execution_count": 37,
   "metadata": {
    "collapsed": false
   },
   "outputs": [
    {
     "name": "stdout",
     "output_type": "stream",
     "text": [
      "<book><title /><author /><year /><price /></book>\n"
     ]
    }
   ],
   "source": [
    "#insert a new book and children\n",
    "newBook = ET.Element('book')\n",
    "newTitle = ET.SubElement(newBook,'title')\n",
    "newAuthor = ET.SubElement(newBook, 'author')\n",
    "newYear = ET.SubElement(newBook,'year')\n",
    "newPrice = ET.SubElement(newBook,'price')\n",
    "ET.dump(newBook) #print it out to see what this structure looks like\n",
    "root.append(newBook) #add it to the end of the current list of books"
   ]
  },
  {
   "cell_type": "code",
   "execution_count": 40,
   "metadata": {
    "collapsed": false
   },
   "outputs": [
    {
     "name": "stdout",
     "output_type": "stream",
     "text": [
      "1.  book\n",
      "\n",
      "    \n",
      "mwa ha ha ha ha\n",
      "Everyday Italian\n",
      "Giada De Laurentiis\n",
      "2005\n",
      "30.00\n",
      "________________\n",
      "2.  book\n",
      "mwa ha ha ha ha\n",
      "________________\n",
      "3.  book\n",
      "\n",
      "    \n",
      "Harry Potter\n",
      "J K. Rowling\n",
      "2005\n",
      "29.99\n",
      "________________\n",
      "4.  book\n",
      "\n",
      "    \n",
      "XQuery Kick Start\n",
      "James McGovern\n",
      "Per Bothner\n",
      "Kurt Cagle\n",
      "James Linn\n",
      "Vaidyanathan Nagarajan\n",
      "2003\n",
      "49.99\n",
      "________________\n",
      "5.  book\n",
      "\n",
      "    \n",
      "Learning XML\n",
      "Erik T. Ray\n",
      "2003\n",
      "39.95\n",
      "________________\n",
      "6.  book\n",
      "None\n",
      "None\n",
      "None\n",
      "None\n",
      "None\n",
      "________________\n"
     ]
    }
   ],
   "source": [
    "#iterate over the new structure to show the change\n",
    "def showAllText():\n",
    "    count = 1\n",
    "    for element in root.iter('book'):\n",
    "        print (str(count)+\". \",element.tag)\n",
    "        for child in element.iter():\n",
    "            print (child.text)\n",
    "        print (\"________________\")\n",
    "        count +=1\n",
    "showAllText()"
   ]
  },
  {
   "cell_type": "code",
   "execution_count": 43,
   "metadata": {
    "collapsed": false
   },
   "outputs": [
    {
     "name": "stdout",
     "output_type": "stream",
     "text": [
      "{'title': 'a category'}\n"
     ]
    }
   ],
   "source": [
    "#Let's add some text to these new nodes\n",
    "root[5].set(\"title\",\"a category\") # this sets an attribute, not the \"title\" child node\n",
    "print (root[5].attrib)\n",
    "title = root[5].find('title')\n",
    "title.text = \"A new book\"\n",
    "author = root[5].find('author')\n",
    "author.text = \"Peter Rich\"\n",
    "year = root[5].find('year')\n",
    "year.text = \"2015\"\n",
    "price = root[5].find('price')\n",
    "price.text = \"134.45\""
   ]
  },
  {
   "cell_type": "code",
   "execution_count": 44,
   "metadata": {
    "collapsed": false
   },
   "outputs": [
    {
     "name": "stdout",
     "output_type": "stream",
     "text": [
      "1.  book\n",
      "\n",
      "    \n",
      "mwa ha ha ha ha\n",
      "Everyday Italian\n",
      "Giada De Laurentiis\n",
      "2005\n",
      "30.00\n",
      "________________\n",
      "2.  book\n",
      "mwa ha ha ha ha\n",
      "________________\n",
      "3.  book\n",
      "\n",
      "    \n",
      "Harry Potter\n",
      "J K. Rowling\n",
      "2005\n",
      "29.99\n",
      "________________\n",
      "4.  book\n",
      "\n",
      "    \n",
      "XQuery Kick Start\n",
      "James McGovern\n",
      "Per Bothner\n",
      "Kurt Cagle\n",
      "James Linn\n",
      "Vaidyanathan Nagarajan\n",
      "2003\n",
      "49.99\n",
      "________________\n",
      "5.  book\n",
      "\n",
      "    \n",
      "Learning XML\n",
      "Erik T. Ray\n",
      "2003\n",
      "39.95\n",
      "________________\n",
      "6.  book\n",
      "None\n",
      "A new book\n",
      "Peter Rich\n",
      "2015\n",
      "134.45\n",
      "________________\n"
     ]
    }
   ],
   "source": [
    "showAllText()"
   ]
  },
  {
   "cell_type": "code",
   "execution_count": 45,
   "metadata": {
    "collapsed": false
   },
   "outputs": [],
   "source": [
    "#save it all to a new file\n",
    "tree.write(\"Books_New.xml\")"
   ]
  }
 ],
 "metadata": {
  "kernelspec": {
   "display_name": "Python [Root]",
   "language": "python",
   "name": "Python [Root]"
  },
  "language_info": {
   "codemirror_mode": {
    "name": "ipython",
    "version": 3
   },
   "file_extension": ".py",
   "mimetype": "text/x-python",
   "name": "python",
   "nbconvert_exporter": "python",
   "pygments_lexer": "ipython3",
   "version": "3.5.2"
  }
 },
 "nbformat": 4,
 "nbformat_minor": 0
}
