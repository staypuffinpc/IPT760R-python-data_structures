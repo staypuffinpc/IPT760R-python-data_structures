{
 "cells": [
  {
   "cell_type": "code",
   "execution_count": 24,
   "metadata": {
    "collapsed": false
   },
   "outputs": [
    {
     "name": "stdout",
     "output_type": "stream",
     "text": [
      "DATA: {'third': 'who cares?', 'first': 'worst', 'second': 'same', 'last': 'the best of all the game.'}\n",
      "JSON:  {\"third\": \"who cares?\", \"first\": \"worst\", \"second\": \"same\", \"last\": \"the best of all the game.\"}\n",
      "Decoded {'third': 'who cares?', 'first': 'worst', 'second': 'same', 'last': 'the best of all the game.'}\n"
     ]
    }
   ],
   "source": [
    "#PURPOSE: To connect to, read from, and write to a JSON file\n",
    "import json\n",
    "\n",
    "#start with a simple json string\n",
    "data = {'first':'worst','second': 'same','third': 'who cares?','last': 'the best of all the game.'}\n",
    "print ('DATA:', data)\n",
    "\n",
    "data_string = json.dumps(data)\n",
    "print ('JSON: ',data_string)\n",
    "\n",
    "print (\"Decoded\",json.loads(data_string))"
   ]
  },
  {
   "cell_type": "code",
   "execution_count": 25,
   "metadata": {
    "collapsed": false
   },
   "outputs": [
    {
     "name": "stdout",
     "output_type": "stream",
     "text": [
      "{\n",
      " \"first\": \"worst\",\n",
      " \"last\": \"the best of all the game.\",\n",
      " \"second\": \"same\",\n",
      " \"third\": \"who cares?\"\n",
      "}\n"
     ]
    }
   ],
   "source": [
    "#sort the keys, instead of outputing in random order, use indent for formatting\n",
    "print (json.dumps(data,sort_keys = True, indent=1))"
   ]
  },
  {
   "cell_type": "code",
   "execution_count": 26,
   "metadata": {
    "collapsed": false
   },
   "outputs": [
    {
     "name": "stdout",
     "output_type": "stream",
     "text": [
      "{\n",
      "  \"third\"*?@*!\"who cares?\",\n",
      "\r\n",
      "  \"first\"*?@*!\"worst\",\n",
      "\r\n",
      "  \"second\"*?@*!\"same\",\n",
      "\r\n",
      "  \"last\"*?@*!\"the best of all the game.\"\n",
      "}\n"
     ]
    }
   ],
   "source": [
    "#if you want to format the output for a custom look, use the separators command\n",
    "print (json.dumps(data, separators=(',\\n\\r','*?@*!'),indent=2))"
   ]
  },
  {
   "cell_type": "code",
   "execution_count": 32,
   "metadata": {
    "collapsed": false
   },
   "outputs": [],
   "source": [
    "#Now let's read JSON data from an external file\n",
    "f = open('RichFamily.json',\"r+\")\n",
    "# data = json.load(f)\n",
    "# print (repr(data)) #provides a string representation of an object. Kind of like eval()\n",
    "\n",
    "#let's make it pretty so it's easier to read\n",
    "# print (\"Formatted:\",json.dumps(data,indent=3))\n",
    "\n",
    "#get info from a specific part of the object\n",
    "# print (data['sibs'][0]['name'],data['sibs'][0]['birthday'])\n",
    "f.close()"
   ]
  },
  {
   "cell_type": "code",
   "execution_count": 33,
   "metadata": {
    "collapsed": false
   },
   "outputs": [
    {
     "ename": "KeyError",
     "evalue": "'sibs'",
     "output_type": "error",
     "traceback": [
      "\u001b[0;31m---------------------------------------------------------------------------\u001b[0m",
      "\u001b[0;31mKeyError\u001b[0m                                  Traceback (most recent call last)",
      "\u001b[0;32m<ipython-input-33-54652721c96b>\u001b[0m in \u001b[0;36m<module>\u001b[0;34m()\u001b[0m\n\u001b[1;32m      4\u001b[0m \u001b[0mf\u001b[0m \u001b[0;34m=\u001b[0m \u001b[0mopen\u001b[0m\u001b[0;34m(\u001b[0m\u001b[0;34m'RichFamily.json'\u001b[0m\u001b[0;34m,\u001b[0m\u001b[0;34m'a'\u001b[0m\u001b[0;34m)\u001b[0m\u001b[0;34m\u001b[0m\u001b[0m\n\u001b[1;32m      5\u001b[0m \u001b[0mdata\u001b[0m \u001b[0;34m=\u001b[0m \u001b[0;34m{\u001b[0m\u001b[0;34m}\u001b[0m\u001b[0;34m\u001b[0m\u001b[0m\n\u001b[0;32m----> 6\u001b[0;31m \u001b[0mdata\u001b[0m\u001b[0;34m[\u001b[0m\u001b[0;34m'sibs'\u001b[0m\u001b[0;34m]\u001b[0m\u001b[0;34m[\u001b[0m\u001b[0;36m1\u001b[0m\u001b[0;34m]\u001b[0m\u001b[0;34m[\u001b[0m\u001b[0;34m'name'\u001b[0m\u001b[0;34m]\u001b[0m \u001b[0;34m=\u001b[0m \u001b[0;34m\"Curly\"\u001b[0m\u001b[0;34m\u001b[0m\u001b[0m\n\u001b[0m\u001b[1;32m      7\u001b[0m \u001b[0mjson\u001b[0m\u001b[0;34m.\u001b[0m\u001b[0mdump\u001b[0m\u001b[0;34m(\u001b[0m\u001b[0mdata\u001b[0m\u001b[0;34m,\u001b[0m \u001b[0mf\u001b[0m\u001b[0;34m)\u001b[0m\u001b[0;34m\u001b[0m\u001b[0m\n\u001b[1;32m      8\u001b[0m \u001b[0mf\u001b[0m\u001b[0;34m.\u001b[0m\u001b[0mclose\u001b[0m\u001b[0;34m(\u001b[0m\u001b[0;34m)\u001b[0m\u001b[0;34m\u001b[0m\u001b[0m\n",
      "\u001b[0;31mKeyError\u001b[0m: 'sibs'"
     ]
    }
   ],
   "source": [
    "#Change a value and write it back to the file using the dumps command\n",
    "\n",
    "##open a file and erase what's there\n",
    "f = open('RichFamily.json','a')\n",
    "data = {}\n",
    "\n",
    "data['sibs'][1]['name'] = \"Curly\"\n",
    "json.dump(data, f)\n",
    "f.close()"
   ]
  },
  {
   "cell_type": "code",
   "execution_count": null,
   "metadata": {
    "collapsed": true
   },
   "outputs": [],
   "source": []
  }
 ],
 "metadata": {
  "anaconda-cloud": {},
  "kernelspec": {
   "display_name": "Python [Root]",
   "language": "python",
   "name": "Python [Root]"
  },
  "language_info": {
   "codemirror_mode": {
    "name": "ipython",
    "version": 3
   },
   "file_extension": ".py",
   "mimetype": "text/x-python",
   "name": "python",
   "nbconvert_exporter": "python",
   "pygments_lexer": "ipython3",
   "version": "3.5.2"
  }
 },
 "nbformat": 4,
 "nbformat_minor": 0
}
