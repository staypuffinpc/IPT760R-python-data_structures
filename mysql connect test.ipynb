{
 "metadata": {
  "name": "",
  "signature": "sha256:bf83d9951858dd45a1ee0b1c168f3088e09084641128dbb8c2575e2418344cac"
 },
 "nbformat": 3,
 "nbformat_minor": 0,
 "worksheets": [
  {
   "cells": [
    {
     "cell_type": "code",
     "collapsed": false,
     "input": [
      "#PURPOSE: To connect to a local mysql db and select information\n",
      "import mysql.connector\n",
      "from mysql.connector import errorcode\n",
      "\n",
      "#connect to db with credentials (NOTE: This should really be stored in a separate file and called here)\n",
      "try:\n",
      "    cnx = mysql.connector.connect(user='demo', password='testpass', host='localhost',database='Gradebook_Demo') \n",
      "    #note that we want to ID the correct port.  Default MySQL is 3306\n",
      "    print cnx\n",
      "except mysql.connector.Error as err:\n",
      "    if err.errno == errorcode.ER_ACCESS_DENIED_ERROR:\n",
      "        print \"Sorry, that's not the right username or password\"\n",
      "    elif err.errno == errorcode.ER_BAD_DB_ERROR:\n",
      "        print (\"DB doesn't exist\")\n",
      "    else:\n",
      "        print (err)\n",
      "    \n",
      "# query = ('''SELECT title,description FROM  `Assignments` ''')\n",
      "query = ('''INSERT INTO `Gradebook_Demo`.`Assignments` \n",
      " (`assignment_id`, `title`, `description`, `due`, `points_possible`) \n",
      " VALUES (NULL, 'Tuesday class test', 'This better work', CURRENT_TIMESTAMP, '25')''')\n",
      "\n",
      "#UPDATE query\n",
      "# query = ('''UPDATE  `Gradebook_Demo`.`Assignments` SET  `title` =  'Update test',\n",
      "# `description` =  'this is to see if I can run an update query' WHERE  `Assignments`.`assignment_id` =13;''')\n",
      "\n",
      "cursor = cnx.cursor()\n",
      "results = cursor.execute(query)\n",
      "cnx.commit() #have to \"commit\" when inserting\n",
      "# print \"result:\",results\n",
      "\n",
      "# All student info\n",
      "# for (first, last, email) in cursor:\n",
      "#     print first, last, email\n",
      "\n",
      "#need to use fetchall when using SELECT command\n",
      "# rows = cursor.fetchall()\n",
      "\n",
      "#All assignment info\n",
      "# for (title, description) in rows:\n",
      "#     print title,\"\\n\", description\n",
      "\n",
      "#good idea to close your db connection\n",
      "cursor.close()\n",
      "# cnx.close()"
     ],
     "language": "python",
     "metadata": {},
     "outputs": [
      {
       "output_type": "stream",
       "stream": "stdout",
       "text": [
        "<mysql.connector.connection.MySQLConnection object at 0x106f7c190>\n"
       ]
      },
      {
       "metadata": {},
       "output_type": "pyout",
       "prompt_number": 28,
       "text": [
        "True"
       ]
      }
     ],
     "prompt_number": 28
    },
    {
     "cell_type": "code",
     "collapsed": false,
     "input": [
      "#try an insertion using the example of 5.3 @ http://dev.mysql.com/doc/connector-python/en/connector-python-example-cursor-transaction.html\n",
      "cursor = cnx.cursor()\n",
      "\n",
      "null = ''\n",
      "title = \"Another test:\"\n",
      "desc = \"bla bla bla bla bla\"\n",
      "due = \"2038-01-19 03:14:07\"\n",
      "points = 35\n",
      "myList = ['Peter','Robb']\n",
      "\n",
      "#insert query\n",
      "add_record = (\"INSERT INTO `Gradebook_Demo`.`Assignments` \"\n",
      "\"(`assignment_id`,`title`, `description`,`due`,`points_possible`) \"\n",
      "# \"VALUES (%s, %s, %s, %s, %s)\")\n",
      "# \"VALUES (NULL, 'Final class test', 'This better work', CURRENT_TIMESTAMP(), '25')\")\n",
      "# \"VALUES ('\"+null+\"', '\"+title+\"', '\"+desc+\"' ,'\"+due+\"', '\"+str(points)+\"')\")\n",
      "\"VALUES (%(id)s,%(title)s,%(desc)s,%(due)s,%(points)s)\")\n",
      "print add_record\n",
      "\n",
      "subs = ('','substitution test', 'bla bla bla bla', '2038-01-19 03:14:07', 35)\n",
      "dict_subs = {\n",
      "    'id':'NULL',\n",
      "    'title':'One more time',\n",
      "    'desc':''.join(myList),\n",
      "    'due':'',\n",
      "    'points': 50,    \n",
      "}\n",
      "result = cursor.execute(add_record, dict_subs)\n",
      "cnx.commit()\n",
      "cursor.close()"
     ],
     "language": "python",
     "metadata": {},
     "outputs": [
      {
       "output_type": "stream",
       "stream": "stdout",
       "text": [
        "INSERT INTO `Gradebook_Demo`.`Assignments` (`assignment_id`,`title`, `description`,`due`,`points_possible`) VALUES (%(id)s,%(title)s,%(desc)s,%(due)s,%(points)s)\n"
       ]
      },
      {
       "metadata": {},
       "output_type": "pyout",
       "prompt_number": 29,
       "text": [
        "True"
       ]
      }
     ],
     "prompt_number": 29
    },
    {
     "cell_type": "code",
     "collapsed": false,
     "input": [
      "#insert query with set value\n",
      "\n",
      "cursor = cnx.cursor()\n",
      "\n",
      "\n",
      "mysql_query = (\"INSERT INTO  `Gradebook_Demo`.`Assignments` \"\n",
      "\"(`assignment_id` ,`title` ,`description`,`due` ,`points_possible` ,`list` ,`setTest`) \"\n",
      "\"VALUES (%(id)s,  %(title)s, %(desc)s, %(due)s, %(points)s,  %(enum)s,  %(set)s) \")\n",
      "\n",
      "mySet = ['d','z','x','p']\n",
      "mySet = \",\".join(mySet)\n",
      "mySet = \"'\"+mySet+\"'\"\n",
      "\n",
      "set_subs = {\n",
      "    'id':'NULL',\n",
      "    'title':'Setup!',\n",
      "    'desc':'Demo of how to use as a set as a datatype in mysql from python',\n",
      "    'due':'CURRENT_TIMESTAMP',\n",
      "    'points':'23',\n",
      "    'enum':'b',\n",
      "    'set':mySet,\n",
      "}\n",
      "\n",
      "print mySet\n",
      "# print (\",\".join(mySet))\n",
      "result = cursor.execute(mysql_query, set_subs)\n",
      "cnx.commit()\n",
      "cursor.close()"
     ],
     "language": "python",
     "metadata": {},
     "outputs": [
      {
       "output_type": "stream",
       "stream": "stdout",
       "text": [
        "'d,z,x,p'\n"
       ]
      },
      {
       "metadata": {},
       "output_type": "pyout",
       "prompt_number": 46,
       "text": [
        "True"
       ]
      }
     ],
     "prompt_number": 46
    },
    {
     "cell_type": "code",
     "collapsed": false,
     "input": [],
     "language": "python",
     "metadata": {},
     "outputs": []
    }
   ],
   "metadata": {}
  }
 ]
}