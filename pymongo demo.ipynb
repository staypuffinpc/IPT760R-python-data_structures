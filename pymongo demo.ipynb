{
 "cells": [
  {
   "cell_type": "code",
   "execution_count": 1,
   "metadata": {
    "collapsed": false
   },
   "outputs": [],
   "source": [
    "import pymongo\n",
    "\n",
    "from pymongo import MongoClient\n",
    "client = MongoClient('localhost',27017)\n",
    "#now access the desired db\n",
    "db = client.test\n",
    "testData = db.testData"
   ]
  },
  {
   "cell_type": "code",
   "execution_count": 6,
   "metadata": {
    "collapsed": false
   },
   "outputs": [],
   "source": [
    "#let's insert a record into the db.  Records are stored as python dictionaries\n",
    "import datetime\n",
    "blogPost = {\"author\":\"Peter\",\n",
    "            \"title\":\"The amazing Peter Dude\",\n",
    "            \"tags\":[\"mongodb\",\"stuperheroes\",\"examples\"],\n",
    "            \"date\":datetime.datetime.utcnow()\n",
    "    }\n",
    "\n",
    "posts = db.posts # note that if this collection doesn't yet exist, mongo will create it\n",
    "posts_id = posts.insert(blogPost) #note that the documentation says to use insert_one.  I found that insert_one doesn't work, but that insert does.\n"
   ]
  },
  {
   "cell_type": "code",
   "execution_count": 3,
   "metadata": {
    "collapsed": false
   },
   "outputs": [
    {
     "data": {
      "text/plain": [
       "{u'_id': ObjectId('5509ad48c660b10347423e4d'),\n",
       " u'author': u'Larry',\n",
       " u'date': datetime.datetime(2015, 3, 18, 16, 52, 24, 762000),\n",
       " u'tags': [u'mongodb', u'superheroes', u'examples'],\n",
       " u'title': u'The amazing spiderman'}"
      ]
     },
     "execution_count": 3,
     "metadata": {},
     "output_type": "execute_result"
    }
   ],
   "source": [
    "posts.find_one() #note that if there are multiple documents matching this query, it'll only return the first"
   ]
  },
  {
   "cell_type": "code",
   "execution_count": 7,
   "metadata": {
    "collapsed": false
   },
   "outputs": [
    {
     "data": {
      "text/plain": [
       "{u'_id': ObjectId('55428d5e62bc37068480575e'),\n",
       " u'author': u'Peter',\n",
       " u'date': datetime.datetime(2015, 4, 30, 20, 15, 26, 174000),\n",
       " u'tags': [u'mongodb', u'stuperheroes', u'examples'],\n",
       " u'title': u'The amazing Peter Dude'}"
      ]
     },
     "execution_count": 7,
     "metadata": {},
     "output_type": "execute_result"
    }
   ],
   "source": [
    "#a few examples of more advanced queries\n",
    "\n",
    "#searching for an exact match on a field\n",
    "posts.find_one({'author':'Peter'})"
   ]
  },
  {
   "cell_type": "code",
   "execution_count": 5,
   "metadata": {
    "collapsed": false
   },
   "outputs": [
    {
     "name": "stdout",
     "output_type": "stream",
     "text": [
      "{u'date': datetime.datetime(2015, 3, 18, 16, 52, 24, 762000), u'_id': ObjectId('5509ad48c660b10347423e4d'), u'author': u'Schuck', u'tags': [u'mongodb', u'superheroes', u'examples'], u'title': u'The amazing spiderman'}\n",
      "{u'date': datetime.datetime(2015, 3, 18, 16, 52, 32, 582000), u'_id': ObjectId('5509ad50c660b10347423e4e'), u'author': u'Schuck', u'tags': [u'mongodb', u'superheroes', u'examples'], u'title': u'The amazing spiderman'}\n",
      "{u'date': datetime.datetime(2015, 3, 18, 16, 52, 40, 455000), u'_id': ObjectId('5509ad58c660b10347423e4f'), u'author': u'Schuck', u'tags': [u'mongodb', u'superheroes', u'examples'], u'title': u'The amazing spiderman'}\n",
      "{u'date': datetime.datetime(2015, 3, 18, 16, 54, 41, 147000), u'_id': ObjectId('5509add1c660b10347423e50'), u'author': u'John', u'tags': [u'mongodb', u'stuperheroes', u'examples'], u'title': u'The amazing JohnMan'}\n",
      "{u'date': datetime.datetime(2015, 3, 18, 19, 34, 37, 582000), u'_id': ObjectId('5509d34dc660b10347423e51'), u'author': u'John', u'tags': [u'mongodb', u'stuperheroes', u'examples'], u'title': u'The amazing JohnMan'}\n",
      "{u'date': datetime.datetime(2015, 3, 19, 15, 23, 9, 357000), u'_id': ObjectId('550ae9dda00ac020156528e0'), u'author': u'John', u'tags': [u'mongodb', u'stuperheroes', u'examples'], u'title': u'The amazing JohnMan'}\n"
     ]
    }
   ],
   "source": [
    "#returning multiple results\n",
    "for post in posts.find(): #note that find creates a cursor object, whereas find_one returns a single document\n",
    "    print post"
   ]
  },
  {
   "cell_type": "code",
   "execution_count": 6,
   "metadata": {
    "collapsed": false
   },
   "outputs": [],
   "source": [
    "#exclude the _id from the returned results we need to include info in the projections parameter\n",
    "for post in posts.find({'author':'Peter'},{'_id':0}):\n",
    "    print post"
   ]
  },
  {
   "cell_type": "code",
   "execution_count": 5,
   "metadata": {
    "collapsed": false
   },
   "outputs": [
    {
     "data": {
      "text/plain": [
       "{u'n': 0, u'nModified': 0, u'ok': 1, 'updatedExisting': False}"
      ]
     },
     "execution_count": 5,
     "metadata": {},
     "output_type": "execute_result"
    }
   ],
   "source": [
    "#update a record\n",
    "db.posts.update({'author':\"Peter\"},{'$set':{'author':\"Larry\"}},upsert=False, multi=True)"
   ]
  },
  {
   "cell_type": "code",
   "execution_count": 8,
   "metadata": {
    "collapsed": false
   },
   "outputs": [
    {
     "name": "stdout",
     "output_type": "stream",
     "text": [
      "{u'date': datetime.datetime(2015, 3, 18, 16, 54, 41, 147000), u'_id': ObjectId('5509add1c660b10347423e50'), u'author': u'John', u'tags': [u'mongodb', u'stuperheroes', u'examples'], u'title': u'The amazing JohnMan'} \n",
      "\r\n",
      "{u'date': datetime.datetime(2015, 3, 18, 19, 34, 37, 582000), u'_id': ObjectId('5509d34dc660b10347423e51'), u'author': u'John', u'tags': [u'mongodb', u'stuperheroes', u'examples'], u'title': u'The amazing JohnMan'} \n",
      "\r\n",
      "{u'date': datetime.datetime(2015, 3, 19, 15, 23, 9, 357000), u'_id': ObjectId('550ae9dda00ac020156528e0'), u'author': u'John', u'tags': [u'mongodb', u'stuperheroes', u'examples'], u'title': u'The amazing JohnMan'} \n",
      "\r\n"
     ]
    }
   ],
   "source": [
    "#to use a regular expression in pymongo as the search parameter takes a bit more work than in the mongo shell.  \n",
    "# There are a few ways of accomplishing this.  First, let's look at the 'normal' js way\n",
    "\n",
    "for post in db.posts.find({'tags':{'$regex':'^stup'}}):\n",
    "    print post, '\\n\\r'"
   ]
  },
  {
   "cell_type": "code",
   "execution_count": 9,
   "metadata": {
    "collapsed": false
   },
   "outputs": [],
   "source": [
    "# and now the python way\n",
    "\n",
    "import re #python's regex library\n",
    "regx = re.compile(\"^P\",re.IGNORECASE)\n",
    "for post in db.posts.find({'author':regx}):\n",
    "    print post"
   ]
  },
  {
   "cell_type": "code",
   "execution_count": 14,
   "metadata": {
    "collapsed": false
   },
   "outputs": [
    {
     "ename": "TypeError",
     "evalue": "'Collection' object is not callable. If you meant to call the 'post' method on a 'Database' object it is failing because no such method exists.",
     "output_type": "error",
     "traceback": [
      "\u001b[0;31m---------------------------------------------------------------------------\u001b[0m",
      "\u001b[0;31mTypeError\u001b[0m                                 Traceback (most recent call last)",
      "\u001b[0;32m<ipython-input-14-38a7f93dd4c4>\u001b[0m in \u001b[0;36m<module>\u001b[0;34m()\u001b[0m\n\u001b[1;32m      1\u001b[0m \u001b[0;31m#let's delete a record using the remove() method\u001b[0m\u001b[0;34m\u001b[0m\u001b[0;34m\u001b[0m\u001b[0m\n\u001b[0;32m----> 2\u001b[0;31m \u001b[0mdb\u001b[0m\u001b[0;34m.\u001b[0m\u001b[0mpost\u001b[0m\u001b[0;34m(\u001b[0m\u001b[0;34m{\u001b[0m\u001b[0;34m'author'\u001b[0m\u001b[0;34m:\u001b[0m\u001b[0;34m'John'\u001b[0m\u001b[0;34m}\u001b[0m\u001b[0;34m,\u001b[0m\u001b[0;34m{\u001b[0m\u001b[0;34m'justOne'\u001b[0m\u001b[0;34m:\u001b[0m \u001b[0mTrue\u001b[0m\u001b[0;34m}\u001b[0m\u001b[0;34m)\u001b[0m\u001b[0;34m\u001b[0m\u001b[0m\n\u001b[0m",
      "\u001b[0;32m/Users/peterrich/anaconda/lib/python2.7/site-packages/pymongo/collection.pyc\u001b[0m in \u001b[0;36m__call__\u001b[0;34m(self, *args, **kwargs)\u001b[0m\n\u001b[1;32m   1767\u001b[0m                             \u001b[0;34m\"object it is failing because no such method \"\u001b[0m\u001b[0;34m\u001b[0m\u001b[0m\n\u001b[1;32m   1768\u001b[0m                             \u001b[0;34m\"exists.\"\u001b[0m \u001b[0;34m%\u001b[0m\u001b[0;34m\u001b[0m\u001b[0m\n\u001b[0;32m-> 1769\u001b[0;31m                             self.__name)\n\u001b[0m\u001b[1;32m   1770\u001b[0m         raise TypeError(\"'Collection' object is not callable. If you meant to \"\n\u001b[1;32m   1771\u001b[0m                         \u001b[0;34m\"call the '%s' method on a 'Collection' object it is \"\u001b[0m\u001b[0;34m\u001b[0m\u001b[0m\n",
      "\u001b[0;31mTypeError\u001b[0m: 'Collection' object is not callable. If you meant to call the 'post' method on a 'Database' object it is failing because no such method exists."
     ]
    }
   ],
   "source": [
    "#let's delete a record using the remove() method\n",
    "db.post({'author':'John'},{'justOne': True})"
   ]
  }
 ],
 "metadata": {
  "kernelspec": {
   "display_name": "Python [Root]",
   "language": "python",
   "name": "Python [Root]"
  },
  "language_info": {
   "codemirror_mode": {
    "name": "ipython",
    "version": 3
   },
   "file_extension": ".py",
   "mimetype": "text/x-python",
   "name": "python",
   "nbconvert_exporter": "python",
   "pygments_lexer": "ipython3",
   "version": "3.5.2"
  }
 },
 "nbformat": 4,
 "nbformat_minor": 0
}
