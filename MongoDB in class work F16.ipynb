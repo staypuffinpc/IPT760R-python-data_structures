{
 "cells": [
  {
   "cell_type": "markdown",
   "metadata": {},
   "source": [
    "# MongoDB with mLab\n",
    "\n",
    "Fill in the following with scripts using the established test db.  You are welcome to play around with this DB, or you may do the exercises with your own db.\n",
    "\n",
    "For the purpose of this practice, we are using a collection named \"posts\" with the following schema\n",
    "<pre>\n",
    "{ \n",
    "    'title': 'this is my first post',\n",
    "    'age' : 23,\n",
    "    'tags': [funny, serious, work, play],\n",
    "    'author': 'Peter'\n",
    "},\n",
    "{ \n",
    "    'title': 'booh yeah',\n",
    "    'age' : 87,\n",
    "    'tags': [play, informative],\n",
    "    'author': 'Gary'\n",
    "},\n",
    "... \n",
    "{ \n",
    "    'title': 'LAST post',\n",
    "    'age' : 334,\n",
    "    'tags': [school, home, work, play],\n",
    "    'author': 'Peter'\n",
    "},\n",
    "</pre>"
   ]
  },
  {
   "cell_type": "code",
   "execution_count": 20,
   "metadata": {
    "collapsed": false
   },
   "outputs": [
    {
     "data": {
      "text/plain": [
       "True"
      ]
     },
     "execution_count": 20,
     "metadata": {},
     "output_type": "execute_result"
    }
   ],
   "source": [
    "import pymongo\n",
    "\n",
    "connection = pymongo.MongoClient(\"ds031925.mlab.com\",31925)\n",
    "db = connection[\"f16_class_demo\"]\n",
    "user = \"760R_student\"\n",
    "pwd = \"justforfun\"\n",
    "\n",
    "db.authenticate(user, pwd) # if this works, you should get a True result, False otherwise"
   ]
  },
  {
   "cell_type": "code",
   "execution_count": 16,
   "metadata": {
    "collapsed": false
   },
   "outputs": [],
   "source": [
    "#use the posts collection\n",
    "posts = db.posts"
   ]
  },
  {
   "cell_type": "code",
   "execution_count": 7,
   "metadata": {
    "collapsed": true
   },
   "outputs": [],
   "source": [
    "#find all posts where the author's name is Peter \n",
    "##(HINT: use the $eq comparison operator.  See:https://docs.mongodb.com/v3.2/reference/operator/query/eq/#op._S_eq)"
   ]
  },
  {
   "cell_type": "code",
   "execution_count": 8,
   "metadata": {
    "collapsed": true
   },
   "outputs": [],
   "source": [
    "#find all posts by Greg or by Marcia\n",
    "## (HINT: use the $or comparison operator.  See: https://docs.mongodb.com/v3.2/reference/operator/query/or/#op._S_or)"
   ]
  },
  {
   "cell_type": "code",
   "execution_count": 9,
   "metadata": {
    "collapsed": true
   },
   "outputs": [],
   "source": [
    "#find all posts that have a \"second_author\" field\n",
    "## (HINT: use the $exsists operator to check if a field exists, even if the current value is null)"
   ]
  },
  {
   "cell_type": "code",
   "execution_count": 11,
   "metadata": {
    "collapsed": true
   },
   "outputs": [],
   "source": [
    "#find posts where the field \"author\" exists, but its value is null\n",
    "## (HINT: use $type to match null values; see: https://docs.mongodb.com/v3.2/reference/operator/query/type/)"
   ]
  },
  {
   "cell_type": "code",
   "execution_count": null,
   "metadata": {
    "collapsed": true
   },
   "outputs": [],
   "source": [
    "#find all posts by author: Peter, then sort those based on the 'age' field\n",
    "## (HINT: use the .sort() method; see: https://docs.mongodb.com/v3.2/reference/method/cursor.sort/#cursor.sort)"
   ]
  },
  {
   "cell_type": "code",
   "execution_count": 12,
   "metadata": {
    "collapsed": true
   },
   "outputs": [],
   "source": [
    "#find posts using the $text operator.  Have fun looking for multiple words, excluding terms, or even searching in a different language\n"
   ]
  },
  {
   "cell_type": "code",
   "execution_count": 13,
   "metadata": {
    "collapsed": true
   },
   "outputs": [],
   "source": [
    "#find the post with the greatest age \n",
    "## (HINT: use the $max operator; see: https://docs.mongodb.com/v3.2/reference/operator/meta/max/)"
   ]
  },
  {
   "cell_type": "code",
   "execution_count": 14,
   "metadata": {
    "collapsed": true
   },
   "outputs": [],
   "source": [
    "#find posts with only 2 tags\n",
    "## (HINT: use the $size operator; see: https://docs.mongodb.com/v3.2/reference/operator/query/size/#op._S_size)"
   ]
  },
  {
   "cell_type": "code",
   "execution_count": null,
   "metadata": {
    "collapsed": true
   },
   "outputs": [],
   "source": []
  }
 ],
 "metadata": {
  "anaconda-cloud": {},
  "kernelspec": {
   "display_name": "Python [Root]",
   "language": "python",
   "name": "Python [Root]"
  },
  "language_info": {
   "codemirror_mode": {
    "name": "ipython",
    "version": 3
   },
   "file_extension": ".py",
   "mimetype": "text/x-python",
   "name": "python",
   "nbconvert_exporter": "python",
   "pygments_lexer": "ipython3",
   "version": "3.5.2"
  }
 },
 "nbformat": 4,
 "nbformat_minor": 0
}
