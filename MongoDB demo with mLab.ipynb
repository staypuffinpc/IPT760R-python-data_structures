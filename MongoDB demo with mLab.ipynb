{
 "cells": [
  {
   "cell_type": "markdown",
   "metadata": {},
   "source": [
    "# Setup\n",
    "1. Install pymongo in your python install \n",
    "2. Sign up for an account at mlab.com\n",
    "2. Choose the free \"development\" version\n",
    "3. Choose a db name for this test version\n",
    "4. Once the db is created, click on the \"users\" tab and create at least 1 user for this db\n",
    "5. With the db setup and a user created, you can now use the code below to get started with a MongoDB\n",
    "\n",
    "For info on mongodb, see https://docs.mongodb.com/v3.2/tutorial/"
   ]
  },
  {
   "cell_type": "code",
   "execution_count": 2,
   "metadata": {
    "collapsed": false
   },
   "outputs": [
    {
     "data": {
      "text/plain": [
       "True"
      ]
     },
     "execution_count": 2,
     "metadata": {},
     "output_type": "execute_result"
    }
   ],
   "source": [
    "import pymongo\n",
    "\n",
    "connection = pymongo.MongoClient(\"ds031925.mlab.com\",31925)\n",
    "db = connection[\"f16_class_demo\"]\n",
    "user = \"admin\"\n",
    "pwd = \"thisisatest\"\n",
    "db.authenticate(user, pwd) # if this works, you should get a True result, False otherwise"
   ]
  },
  {
   "cell_type": "code",
   "execution_count": 3,
   "metadata": {
    "collapsed": false
   },
   "outputs": [
    {
     "data": {
      "text/plain": [
       "<pymongo.results.InsertOneResult at 0x1079c2cf0>"
      ]
     },
     "execution_count": 3,
     "metadata": {},
     "output_type": "execute_result"
    }
   ],
   "source": [
    "#let's create a new user\n",
    "db.users.insert_one({\n",
    "  \"class\": \"test\"\n",
    "})  #this creates a collection called, \"users\" and inserts a document into it"
   ]
  },
  {
   "cell_type": "code",
   "execution_count": 224,
   "metadata": {
    "collapsed": false
   },
   "outputs": [],
   "source": [
    "#let's insert a record into the db.  Records are stored as python dictionaries\n",
    "import datetime\n",
    "blogPost = {\"author\":\"Larry\",\n",
    "            \"title\":\"Flippin Flappin Plumbing\",\n",
    "            \"tags\":[\"mongodb\",\"demo\",\"examples\",\"760\"],\n",
    "            \"date\":datetime.datetime.utcnow()\n",
    "    }\n",
    "\n",
    "posts = db.log # note that if this collection doesn't yet exist, mongo will create it\n",
    "posts_id = posts.insert_one(blogPost)\n"
   ]
  },
  {
   "cell_type": "code",
   "execution_count": 225,
   "metadata": {
    "collapsed": false
   },
   "outputs": [
    {
     "name": "stdout",
     "output_type": "stream",
     "text": [
      "2016-10-27\n"
     ]
    }
   ],
   "source": [
    "import random\n",
    "import time\n",
    "\n",
    "from datetime import timedelta\n",
    "from random import randint\n",
    "import datetime\n",
    "\n",
    "#use this to generate a random date between two ranges\n",
    "## formula came from http://stackoverflow.com/questions/553303/generate-a-random-date-between-two-other-dates\n",
    "def random_date(start, end):\n",
    "    return start + timedelta(seconds=randint(0, int((end - start).total_seconds())))\n",
    "\n",
    "startDate = datetime.datetime.strptime('2016-10-01','%Y-%m-%d').date()\n",
    "endDate = datetime.datetime.strptime('2016-11-04','%Y-%m-%d').date()\n",
    "\n",
    "print(random_date(startDate,endDate))"
   ]
  },
  {
   "cell_type": "code",
   "execution_count": 228,
   "metadata": {
    "collapsed": false
   },
   "outputs": [],
   "source": [
    "#just for fun, let's create a lot of posts, so that we can search through them\n",
    "## we'll first create a several lists so that we can create unique posts\n",
    "authors = [\"Mike\",\"Carol\",\"Alice\",\"Greg\",\"Marcia\",\"Peter\",\"Jan\",\"Bobby\",\"Cindy\"]\n",
    "tags = [\"demo\",\"rant\",\"insight\",\"stupid\",\"important\",\"political\",\"personal\",\"760R\",\"BYU\",\"fun\",\"work\",\"random\"]\n",
    "titleArticle = [\"The\",\"A\"]\n",
    "titleNouns = [\"discussion\",\"sea\",\"nation\",\"election\",\"effect\",\"battle\",\"discovery\",\"comparison\",\"industry\",\"governor\",\"match\",\"kittens\",\"animals\",\"year\"]\n",
    "titleAdverbs = [\"about\",\"where\",\"very\",\"how\",\"just\",\"now\",\"even\",\"very\",\"only\",\"never\"]\n",
    "titlePrepositions = [\"of\",\"around\",\"in\",\"on\",\"about\",\"through\",\"inside\",\"with\",\"at\",\"within\",\"without\",\"under\",\"by\"]\n",
    "titleNounsPlural = [\"candidates\",\"homes\",\"suits\",\"trains\",\"books\",\"ice\",\"snakes\",\"deer\",\"scenes\",\"weather\",\"fruit\",\"horses\",\"airplanes\",\"streets\",\"yams\",\"cables\",\"schools\",\"yokes\"]\n",
    "titleVerbs = [\"relax\",\"bomb\",\"mourn\",\"wipe\",\"slow\",\"borrow\",\"flap\",\"pour\",\"welcome\",\"remember\",\"irritate\",\"use\",\"unfasten\",\"agree\",\"share\",\"choke\",\"argue\",\"tire\",\"squeal\",\"unfasten\",\"box\",\"launch\",\"scratch\",\"use\",\"stretch\"]\n",
    "\n",
    "\n",
    "import random\n",
    "import time\n",
    "\n",
    "from datetime import timedelta\n",
    "from random import randint\n",
    "import datetime\n",
    "\n",
    "#use this to generate a random date between two ranges\n",
    "## formula came from http://stackoverflow.com/questions/553303/generate-a-random-date-between-two-other-dates\n",
    "def random_date(start, end):\n",
    "    return start + timedelta(seconds=randint(0, int((end - start).total_seconds())))\n",
    "\n",
    "startDate = datetime.datetime.strptime('2016-10-01','%Y-%m-%d').date()\n",
    "endDate = datetime.datetime.strptime('2016-11-04','%Y-%m-%d').date()\n",
    "\n",
    "posts = db.log\n",
    "\n",
    "for i in range(1,100):\n",
    "    numTags = random.randint(1,4)\n",
    "    thisPostTags = []\n",
    "    for j in range(1,4):\n",
    "        thisWord = tags[random.randint(0,len(tags)-1)]\n",
    "        if thisWord not in thisPostTags:\n",
    "            thisPostTags.append(thisWord)\n",
    "    thisDate = random_date(startDate,endDate)\n",
    "    thisPost = {\n",
    "        \"author\":authors[random.randint(0,len(authors)-1)],\n",
    "        \"title\":titleArticle[random.randint(0,len(titleArticle)-1)]+\" \"+titleNouns[random.randint(0,len(titleNouns)-1)]+\" \"+titleAdverbs[random.randint(0,len(titleAdverbs)-1)]+\" \"+titlePrepositions[random.randint(0,len(titlePrepositions)-1)]+\" \"+titleNounsPlural[random.randint(0,len(titleNounsPlural)-1)]+\" \"+titleVerbs[random.randint(0,len(titleVerbs)-1)]+\".\",\n",
    "        \"tags\": thisPostTags,\n",
    "        \"date\": str(thisDate)\n",
    "    }\n",
    "    posts.insert_one(thisPost)"
   ]
  },
  {
   "cell_type": "code",
   "execution_count": 232,
   "metadata": {
    "collapsed": false
   },
   "outputs": [
    {
     "data": {
      "text/plain": [
       "{'_id': ObjectId('581b86384182742e9afbe454'), 'date': 'today', 'name': 'Peter'}"
      ]
     },
     "execution_count": 232,
     "metadata": {},
     "output_type": "execute_result"
    }
   ],
   "source": [
    "#now let's look for a record\n",
    "posts.find_one() #note that if there are multiple documents matching this query, it'll only return the first"
   ]
  },
  {
   "cell_type": "code",
   "execution_count": 163,
   "metadata": {
    "collapsed": false
   },
   "outputs": [
    {
     "data": {
      "text/plain": [
       "{'_id': ObjectId('581b5d29418274fe011894bb'),\n",
       " 'author': 'Jan',\n",
       " 'date': '2016-11-02',\n",
       " 'tags': ['fun', 'insight', 'important'],\n",
       " 'title': 'A industry how inside yams flap.'}"
      ]
     },
     "execution_count": 163,
     "metadata": {},
     "output_type": "execute_result"
    }
   ],
   "source": [
    "#searching for an exact match on a field\n",
    "posts.find_one({'author':'Jan'})"
   ]
  },
  {
   "cell_type": "code",
   "execution_count": 235,
   "metadata": {
    "collapsed": false
   },
   "outputs": [
    {
     "name": "stdout",
     "output_type": "stream",
     "text": [
      "The election very in horses irritate. \n",
      "\n",
      "The comparison only under snakes mourn. \n",
      "\n",
      "A discussion just on books tire. \n",
      "\n",
      "The year just under horses argue. \n",
      "\n",
      "The governor only about candidates remember. \n",
      "\n",
      "A election how within homes stretch. \n",
      "\n",
      "A effect about about books tire. \n",
      "\n",
      "A match where in yams stretch. \n",
      "\n",
      "A effect where at yams launch. \n",
      "\n",
      "A sea very in ice use. \n",
      "\n",
      "A sea about through airplanes unfasten. \n",
      "\n",
      "A battle about through fruit relax. \n",
      "\n",
      "The kittens just with ice box. \n",
      "\n",
      "The nation how around trains borrow. \n",
      "\n",
      "The nation only about fruit launch. \n",
      "\n"
     ]
    }
   ],
   "source": [
    "#returning multiple results\n",
    "for post in posts.find({'author':'Marcia'}): #note that find creates a cursor object, whereas find_one returns a single document\n",
    "    print (post['title'],\"\\n\")"
   ]
  },
  {
   "cell_type": "code",
   "execution_count": 150,
   "metadata": {
    "collapsed": false
   },
   "outputs": [
    {
     "name": "stdout",
     "output_type": "stream",
     "text": [
      "{'tags': ['political', 'work', 'random'], 'title': 'A year only through homes share.', 'date': '2016-10-28', 'author': 'Marcia'} \n",
      "\r\n",
      "{'tags': ['political', 'fun', 'demo'], 'title': 'The comparison where about books borrow.', 'date': '2016-10-03', 'author': 'Marcia'} \n",
      "\r\n"
     ]
    }
   ],
   "source": [
    "#exclude the _id from the returned results we need to include info in the projections parameter\n",
    "## note also that this narrows the results further by only including posts by a specific author that contain a specific tag\n",
    "for post in posts.find({'author':'Marcia','tags':'political'},{'_id':0}):\n",
    "    print (post,\"\\n\\r\")"
   ]
  },
  {
   "cell_type": "code",
   "execution_count": 236,
   "metadata": {
    "collapsed": false
   },
   "outputs": [
    {
     "data": {
      "text/plain": [
       "{'_id': ObjectId('581b8726418274fe0118951f'),\n",
       " 'author': 'Peter',\n",
       " 'date': datetime.datetime(2016, 11, 3, 18, 51, 18, 637000),\n",
       " 'tags': ['mongodb', 'demo', 'examples', '760'],\n",
       " 'title': 'Flippin Flappin Plumbing'}"
      ]
     },
     "execution_count": 236,
     "metadata": {},
     "output_type": "execute_result"
    }
   ],
   "source": [
    "#update a record\n",
    "posts.update_one({'author':\"Larry\"},{'$set':{'author':\"Peter\"}},upsert=False)\n",
    "\n",
    "#after updating, look for that record\n",
    "posts.find_one({'author':'Peter'})"
   ]
  },
  {
   "cell_type": "code",
   "execution_count": 237,
   "metadata": {
    "collapsed": false
   },
   "outputs": [
    {
     "name": "stdout",
     "output_type": "stream",
     "text": [
      "Peter ['mongodb', 'stuperheroes', 'examples'] \n",
      "\r\n",
      "Larry ['mongodb', 'stuperheroes', 'examples'] \n",
      "\r\n",
      "Marcia ['important', 'stupid', 'rant'] \n",
      "\r\n",
      "Greg ['fun', 'stupid'] \n",
      "\r\n",
      "Greg ['personal', 'insight', 'stupid'] \n",
      "\r\n",
      "Greg ['random', 'stupid', 'personal'] \n",
      "\r\n",
      "Bobby ['personal', 'stupid'] \n",
      "\r\n",
      "Cindy ['work', 'stupid', 'insight'] \n",
      "\r\n",
      "Cindy ['BYU', 'stupid', 'random'] \n",
      "\r\n",
      "Carol ['fun', 'political', 'stupid'] \n",
      "\r\n",
      "Carol ['stupid', 'fun', 'personal'] \n",
      "\r\n",
      "Alice ['random', 'stupid'] \n",
      "\r\n",
      "Alice ['stupid', 'important', 'political'] \n",
      "\r\n",
      "Alice ['fun', 'rant', 'stupid'] \n",
      "\r\n",
      "Bobby ['random', 'demo', 'stupid'] \n",
      "\r\n",
      "Marcia ['stupid', 'personal', 'random'] \n",
      "\r\n",
      "Mike ['stupid', 'BYU', 'rant'] \n",
      "\r\n",
      "Greg ['personal', 'stupid', 'demo'] \n",
      "\r\n",
      "Jan ['personal', 'stupid', 'political'] \n",
      "\r\n",
      "Greg ['rant', 'stupid', 'work'] \n",
      "\r\n",
      "Marcia ['stupid', 'BYU', 'rant'] \n",
      "\r\n",
      "Bobby ['stupid', 'fun'] \n",
      "\r\n",
      "Alice ['fun', 'stupid', 'work'] \n",
      "\r\n",
      "Alice ['stupid', 'political', 'BYU'] \n",
      "\r\n",
      "Jan ['stupid', 'work', 'rant'] \n",
      "\r\n",
      "Bobby ['760R', 'random', 'stupid'] \n",
      "\r\n",
      "Greg ['political', 'stupid', 'important'] \n",
      "\r\n",
      "Jan ['insight', 'stupid', 'political'] \n",
      "\r\n",
      "Bobby ['work', 'stupid', 'random'] \n",
      "\r\n",
      "Jan ['stupid', 'work', 'random'] \n",
      "\r\n",
      "Cindy ['important', 'rant', 'stupid'] \n",
      "\r\n",
      "Jan ['rant', 'stupid', 'work'] \n",
      "\r\n",
      "Cindy ['stupid', 'political'] \n",
      "\r\n",
      "Cindy ['political', 'insight', 'stupid'] \n",
      "\r\n",
      "Cindy ['stupid', 'rant', 'insight'] \n",
      "\r\n",
      "Peter ['random', 'stupid', 'work'] \n",
      "\r\n",
      "Peter ['work', 'BYU', 'stupid'] \n",
      "\r\n",
      "Cindy ['demo', 'important', 'stupid'] \n",
      "\r\n",
      "Cindy ['rant', 'stupid', 'BYU'] \n",
      "\r\n",
      "Cindy ['political', 'personal', 'stupid'] \n",
      "\r\n",
      "Bobby ['personal', 'fun', 'stupid'] \n",
      "\r\n",
      "Jan ['insight', 'stupid'] \n",
      "\r\n",
      "Greg ['important', 'insight', 'stupid'] \n",
      "\r\n",
      "Jan ['stupid', 'random', 'personal'] \n",
      "\r\n",
      "Alice ['stupid', 'work'] \n",
      "\r\n",
      "Marcia ['random', 'stupid'] \n",
      "\r\n",
      "Peter ['stupid', 'demo', 'rant'] \n",
      "\r\n",
      "Carol ['important', 'personal', 'stupid'] \n",
      "\r\n",
      "Carol ['random', 'work', 'stupid'] \n",
      "\r\n",
      "Carol ['demo', 'fun', 'stupid'] \n",
      "\r\n",
      "Peter ['rant', 'stupid', '760R'] \n",
      "\r\n",
      "Bobby ['random', '760R', 'stupid'] \n",
      "\r\n",
      "Carol ['stupid', 'work', 'random'] \n",
      "\r\n",
      "Alice ['stupid', '760R', 'demo'] \n",
      "\r\n",
      "Greg ['insight', 'stupid'] \n",
      "\r\n",
      "Jan ['stupid', 'work'] \n",
      "\r\n",
      "Peter ['stupid', 'political'] \n",
      "\r\n",
      "Greg ['stupid', 'fun', 'personal'] \n",
      "\r\n",
      "Carol ['stupid', 'rant', 'insight'] \n",
      "\r\n",
      "Cindy ['stupid', 'important', 'random'] \n",
      "\r\n",
      "Alice ['BYU', 'stupid', 'fun'] \n",
      "\r\n",
      "Jan ['stupid', 'political', '760R'] \n",
      "\r\n",
      "Bobby ['BYU', 'stupid', '760R'] \n",
      "\r\n",
      "Carol ['demo', 'fun', 'stupid'] \n",
      "\r\n",
      "Greg ['stupid', 'important', 'personal'] \n",
      "\r\n",
      "Marcia ['important', 'political', 'stupid'] \n",
      "\r\n",
      "Mike ['work', 'stupid', 'personal'] \n",
      "\r\n",
      "Carol ['760R', 'insight', 'stupid'] \n",
      "\r\n",
      "Jan ['760R', 'stupid'] \n",
      "\r\n",
      "Greg ['stupid', 'political', 'demo'] \n",
      "\r\n",
      "Peter ['BYU', 'insight', 'stupid'] \n",
      "\r\n"
     ]
    }
   ],
   "source": [
    "#to use a regular expression in pymongo as the search parameter takes a bit more work than in the mongo shell.  \n",
    "# There are a few ways of accomplishing this.  First, let's look at the 'normal' js way\n",
    "\n",
    "for post in db.posts.find({'tags':{'$regex':'^stup'}}):\n",
    "    print (post['author'],post['tags'], '\\n\\r')"
   ]
  },
  {
   "cell_type": "code",
   "execution_count": 168,
   "metadata": {
    "collapsed": false
   },
   "outputs": [
    {
     "name": "stdout",
     "output_type": "stream",
     "text": [
      "{'tags': ['mongodb', 'stuperheroes', 'examples'], 'title': 'The amazing Peter Dude', 'date': datetime.datetime(2016, 10, 25, 17, 46, 53, 581000), 'author': 'Peter'} \n",
      "\r\n",
      "{'tags': ['mongodb', 'stuperheroes', 'examples'], 'title': 'The amazing Peter Dude', 'date': datetime.datetime(2016, 10, 25, 17, 48, 0, 770000), 'author': 'Larry'} \n",
      "\r\n",
      "{'tags': ['important', 'stupid', 'rant'], 'title': 'The kittens very at horses share.', 'date': '2016-10-15', 'author': 'Marcia'} \n",
      "\r\n",
      "{'tags': ['fun', 'stupid'], 'title': 'A industry how inside schools bomb.', 'date': '2016-10-04', 'author': 'Greg'} \n",
      "\r\n",
      "{'tags': ['personal', 'insight', 'stupid'], 'title': 'The discussion very through yams box.', 'date': '2016-10-27', 'author': 'Greg'} \n",
      "\r\n",
      "{'tags': ['random', 'stupid', 'personal'], 'title': 'A effect never through airplanes box.', 'date': '2016-10-18', 'author': 'Greg'} \n",
      "\r\n",
      "{'tags': ['personal', 'stupid'], 'title': 'A year very at fruit share.', 'date': '2016-10-13', 'author': 'Bobby'} \n",
      "\r\n",
      "{'tags': ['work', 'stupid', 'insight'], 'title': 'The governor very of ice choke.', 'date': '2016-10-21', 'author': 'Cindy'} \n",
      "\r\n",
      "{'tags': ['BYU', 'stupid', 'random'], 'title': 'A nation only with weather relax.', 'date': '2016-10-20', 'author': 'Cindy'} \n",
      "\r\n",
      "{'tags': ['fun', 'political', 'stupid'], 'title': 'The battle very without ice tire.', 'date': '2016-10-22', 'author': 'Carol'} \n",
      "\r\n",
      "{'tags': ['stupid', 'fun', 'personal'], 'title': 'The effect now about cables remember.', 'date': '2016-11-03', 'author': 'Carol'} \n",
      "\r\n",
      "{'tags': ['random', 'stupid'], 'title': 'The industry where of scenes stretch.', 'date': '2016-10-29', 'author': 'Alice'} \n",
      "\r\n",
      "{'tags': ['stupid', 'important', 'political'], 'title': 'A governor very about cables unfasten.', 'date': '2016-10-05', 'author': 'Alice'} \n",
      "\r\n",
      "{'tags': ['fun', 'rant', 'stupid'], 'title': 'The discussion how around candidates use.', 'date': '2016-10-11', 'author': 'Alice'} \n",
      "\r\n",
      "{'tags': ['random', 'demo', 'stupid'], 'title': 'A comparison how about scenes remember.', 'date': '2016-10-25', 'author': 'Bobby'} \n",
      "\r\n",
      "{'tags': ['stupid', 'personal', 'random'], 'title': 'A effect about of snakes mourn.', 'date': '2016-11-01', 'author': 'Marcia'} \n",
      "\r\n",
      "{'tags': ['stupid', 'BYU', 'rant'], 'title': 'A discussion very inside schools remember.', 'date': '2016-10-19', 'author': 'Mike'} \n",
      "\r\n",
      "{'tags': ['personal', 'stupid', 'demo'], 'title': 'A animals even in homes use.', 'date': '2016-10-24', 'author': 'Greg'} \n",
      "\r\n",
      "{'tags': ['personal', 'stupid', 'political'], 'title': 'A election how about weather stretch.', 'date': '2016-10-12', 'author': 'Jan'} \n",
      "\r\n",
      "{'tags': ['rant', 'stupid', 'work'], 'title': 'A battle only under streets box.', 'date': '2016-10-11', 'author': 'Greg'} \n",
      "\r\n",
      "{'tags': ['stupid', 'BYU', 'rant'], 'title': 'A nation how on streets squeal.', 'date': '2016-10-29', 'author': 'Marcia'} \n",
      "\r\n",
      "{'tags': ['stupid', 'fun'], 'title': 'The year very through airplanes choke.', 'date': '2016-10-26', 'author': 'Bobby'} \n",
      "\r\n",
      "{'tags': ['fun', 'stupid', 'work'], 'title': 'The discovery only within candidates flap.', 'date': '2016-10-19', 'author': 'Alice'} \n",
      "\r\n",
      "{'tags': ['stupid', 'political', 'BYU'], 'title': 'A comparison never within schools use.', 'date': '2016-10-22', 'author': 'Alice'} \n",
      "\r\n",
      "{'tags': ['stupid', 'work', 'rant'], 'title': 'A year even at scenes stretch.', 'date': '2016-11-01', 'author': 'Jan'} \n",
      "\r\n",
      "{'tags': ['760R', 'random', 'stupid'], 'title': 'A year where with schools use.', 'date': '2016-10-12', 'author': 'Bobby'} \n",
      "\r\n",
      "{'tags': ['political', 'stupid', 'important'], 'title': 'The sea only by yams launch.', 'date': '2016-10-21', 'author': 'Greg'} \n",
      "\r\n",
      "{'tags': ['insight', 'stupid', 'political'], 'title': 'A discussion even at homes flap.', 'date': '2016-10-14', 'author': 'Jan'} \n",
      "\r\n"
     ]
    }
   ],
   "source": [
    "# and now the python way\n",
    "\n",
    "import re #python's regex library\n",
    "regx = re.compile(\"^s\",re.IGNORECASE)\n",
    "for post in db.posts.find({'tags':regx},{'_id':0}):\n",
    "    print (post, \"\\n\\r\")"
   ]
  },
  {
   "cell_type": "code",
   "execution_count": 170,
   "metadata": {
    "collapsed": false
   },
   "outputs": [
    {
     "data": {
      "text/plain": [
       "{'_id': ObjectId('580f9a8d41827452127547fc'),\n",
       " 'author': 'Peter',\n",
       " 'date': datetime.datetime(2016, 10, 25, 17, 46, 53, 581000),\n",
       " 'tags': ['mongodb', 'stuperheroes', 'examples'],\n",
       " 'title': 'The amazing Peter Dude'}"
      ]
     },
     "execution_count": 170,
     "metadata": {},
     "output_type": "execute_result"
    }
   ],
   "source": [
    "#let's delete a record using the remove() method\n",
    "# posts.remove_one({'author':'Peter'})\n",
    "\n",
    "posts.find_one({'author':'Peter'})"
   ]
  },
  {
   "cell_type": "code",
   "execution_count": 184,
   "metadata": {
    "collapsed": false
   },
   "outputs": [
    {
     "name": "stdout",
     "output_type": "stream",
     "text": [
      "{'tags': ['rant', 'political', 'random'], 'title': 'The discussion very through weather use.', 'date': '2016-10-26', 'author': 'Bobby'} \n",
      "\r\n",
      "{'tags': ['political', 'work', 'fun'], 'title': 'A industry about at weather choke.', 'date': '2016-11-01', 'author': 'Cindy'} \n",
      "\r\n",
      "{'tags': ['insight', 'rant'], 'title': 'A match very under yams unfasten.', 'date': '2016-10-24', 'author': 'Cindy'} \n",
      "\r\n",
      "{'tags': ['work', 'fun', 'demo'], 'title': 'The comparison only about cables tire.', 'date': '2016-10-21', 'author': 'Bobby'} \n",
      "\r\n",
      "{'tags': ['fun', 'BYU'], 'title': 'The election even with trains use.', 'date': '2016-10-05', 'author': 'Cindy'} \n",
      "\r\n",
      "{'tags': ['political', 'insight', 'fun'], 'title': 'The effect only without snakes relax.', 'date': '2016-10-24', 'author': 'Bobby'} \n",
      "\r\n",
      "{'tags': ['fun', 'demo', 'work'], 'title': 'A discovery never inside weather share.', 'date': '2016-10-18', 'author': 'Cindy'} \n",
      "\r\n",
      "{'tags': ['personal', 'stupid'], 'title': 'A year very at fruit share.', 'date': '2016-10-13', 'author': 'Bobby'} \n",
      "\r\n",
      "{'tags': ['work', 'stupid', 'insight'], 'title': 'The governor very of ice choke.', 'date': '2016-10-21', 'author': 'Cindy'} \n",
      "\r\n",
      "{'tags': ['personal', 'rant', 'fun'], 'title': 'The year about by yokes choke.', 'date': '2016-10-03', 'author': 'Cindy'} \n",
      "\r\n",
      "{'tags': ['random', 'insight', 'work'], 'title': 'A sea very at trains box.', 'date': '2016-10-28', 'author': 'Bobby'} \n",
      "\r\n",
      "{'tags': ['BYU', 'stupid', 'random'], 'title': 'A nation only with weather relax.', 'date': '2016-10-20', 'author': 'Cindy'} \n",
      "\r\n",
      "{'tags': ['760R', 'important'], 'title': 'The discovery even within books argue.', 'date': '2016-10-31', 'author': 'Bobby'} \n",
      "\r\n",
      "{'tags': ['fun', 'demo'], 'title': 'A election now with snakes box.', 'date': '2016-10-11', 'author': 'Cindy'} \n",
      "\r\n",
      "{'tags': ['random', 'demo', 'stupid'], 'title': 'A comparison how about scenes remember.', 'date': '2016-10-25', 'author': 'Bobby'} \n",
      "\r\n",
      "{'tags': ['important', '760R', 'BYU'], 'title': 'The year just inside trains bomb.', 'date': '2016-10-30', 'author': 'Cindy'} \n",
      "\r\n",
      "{'tags': ['fun', 'work', 'random'], 'title': 'The election how around streets share.', 'date': '2016-10-25', 'author': 'Cindy'} \n",
      "\r\n",
      "{'tags': ['random', 'BYU'], 'title': 'The comparison never in horses stretch.', 'date': '2016-10-03', 'author': 'Bobby'} \n",
      "\r\n",
      "{'tags': ['insight', 'important', 'political'], 'title': 'A governor never in ice stretch.', 'date': '2016-10-14', 'author': 'Bobby'} \n",
      "\r\n",
      "{'tags': ['stupid', 'fun'], 'title': 'The year very through airplanes choke.', 'date': '2016-10-26', 'author': 'Bobby'} \n",
      "\r\n",
      "{'tags': ['political', 'personal'], 'title': 'A match how through cables tire.', 'date': '2016-10-31', 'author': 'Cindy'} \n",
      "\r\n",
      "{'tags': ['760R', 'random', 'stupid'], 'title': 'A year where with schools use.', 'date': '2016-10-12', 'author': 'Bobby'} \n",
      "\r\n",
      "{'tags': ['personal', 'insight', 'random'], 'title': 'The governor only of yokes stretch.', 'date': '2016-10-08', 'author': 'Bobby'} \n",
      "\r\n",
      "{'tags': ['760R', 'rant', 'insight'], 'title': 'A discussion even around ice welcome.', 'date': '2016-10-03', 'author': 'Cindy'} \n",
      "\r\n"
     ]
    }
   ],
   "source": [
    "#find all posts written by Bobby OR Cindy\n",
    "for post in posts.find({'$or':[\n",
    "            {'author':'Bobby'},{'author':'Cindy'}\n",
    "        ]},{'_id':0}):\n",
    "    print (post,'\\n\\r')"
   ]
  },
  {
   "cell_type": "code",
   "execution_count": 238,
   "metadata": {
    "collapsed": false
   },
   "outputs": [
    {
     "data": {
      "text/plain": [
       "<pymongo.results.UpdateResult at 0x1088c25a0>"
      ]
     },
     "execution_count": 238,
     "metadata": {},
     "output_type": "execute_result"
    }
   ],
   "source": [
    "#change the schema so that all posts in db.posts have an \"age\" field\n",
    "posts.update_many({},{'$set':{'age':random.randint(10,60)}})  #this updates all posts with the same value"
   ]
  },
  {
   "cell_type": "code",
   "execution_count": 240,
   "metadata": {
    "collapsed": false
   },
   "outputs": [
    {
     "name": "stderr",
     "output_type": "stream",
     "text": [
      "/Users/peterrich/anaconda/lib/python3.5/site-packages/ipykernel/__main__.py:10: DeprecationWarning: save is deprecated. Use insert_one or replace_one instead\n"
     ]
    }
   ],
   "source": [
    "#let's give each post a different age\n",
    "cursor = posts.find(modifiers={'$snapshot':True})\n",
    "index = 0\n",
    "count = cursor.count()\n",
    "while index != count:\n",
    "    doc = cursor[index]\n",
    "    #update doc\n",
    "    doc['age']= random.randint(10,60)\n",
    "    #save changes\n",
    "    posts.save(doc)\n",
    "    index +=1\n",
    "cursor.close()"
   ]
  },
  {
   "cell_type": "code",
   "execution_count": 206,
   "metadata": {
    "collapsed": false
   },
   "outputs": [
    {
     "name": "stdout",
     "output_type": "stream",
     "text": [
      "Larry 17\n",
      "Larry 23\n",
      "Greg 14\n",
      "Pedro 27\n",
      "Cindy 20\n",
      "Cindy 14\n",
      "Jan 17\n",
      "Cindy 18\n",
      "Cindy 25\n",
      "Pedro 22\n",
      "Carol 10\n",
      "Carol 20\n",
      "Jan 26\n",
      "Carol 10\n",
      "Pedro 10\n",
      "Alice 16\n",
      "Marcia 17\n",
      "Alice 10\n",
      "Mike 13\n",
      "Bobby 27\n",
      "Pedro 27\n",
      "Bobby 25\n",
      "Greg 16\n",
      "Alice 11\n",
      "Mike 14\n",
      "Cindy 20\n",
      "Carol 17\n",
      "Alice 14\n",
      "Jan 27\n",
      "Greg 13\n",
      "Mike 16\n",
      "Carol 28\n",
      "Mike 14\n",
      "Marcia 26\n",
      "Alice 24\n",
      "Pedro 28\n",
      "Bobby 10\n",
      "Bobby 25\n",
      "Alice 14\n",
      "Carol 22\n",
      "Jan 22\n",
      "Carol 21\n"
     ]
    }
   ],
   "source": [
    "#Now let's find all the records with an less than 30\n",
    "for post in posts.find({'age':{'$lt':30}}):\n",
    "    print (post['author'],post['age'])"
   ]
  },
  {
   "cell_type": "code",
   "execution_count": 241,
   "metadata": {
    "collapsed": false
   },
   "outputs": [
    {
     "name": "stdout",
     "output_type": "stream",
     "text": [
      "Marcia 25\n",
      "Greg 26\n",
      "Bobby 29\n",
      "Alice 29\n",
      "Marcia 25\n",
      "Alice 23\n",
      "Bobby 20\n",
      "Alice 28\n",
      "Greg 20\n",
      "Jan 29\n",
      "Cindy 26\n",
      "Greg 24\n",
      "Jan 27\n",
      "Peter 21\n",
      "Marcia 25\n",
      "Alice 24\n",
      "Cindy 21\n",
      "Marcia 29\n",
      "Jan 30\n",
      "Carol 24\n",
      "Alice 28\n",
      "Jan 23\n",
      "Peter 27\n",
      "Jan 27\n"
     ]
    }
   ],
   "source": [
    "#find all posts with ages between 20 and 30\n",
    "for post in posts.find({'$and':[{'age':{'$lte':30}},{'age':{'$gte':20}}]}):\n",
    "    print (post['author'],post['age'])"
   ]
  },
  {
   "cell_type": "code",
   "execution_count": 222,
   "metadata": {
    "collapsed": false
   },
   "outputs": [
    {
     "name": "stdout",
     "output_type": "stream",
     "text": [
      "Mike ['rant', 'BYU']\n",
      "Cindy ['insight', 'rant']\n",
      "Alice ['760R', 'insight']\n",
      "Greg ['fun', 'stupid']\n",
      "Cindy ['fun', 'BYU']\n",
      "Carol ['political', '760R']\n",
      "Jan ['fun', 'demo']\n",
      "Bobby ['personal', 'stupid']\n",
      "Jan ['random', 'insight']\n",
      "Jan ['rant', 'political']\n",
      "Pedro ['insight', '760R']\n",
      "Alice ['random', 'stupid']\n",
      "Alice ['personal', 'random']\n",
      "Marcia ['rant', 'important']\n",
      "Bobby ['760R', 'important']\n",
      "Cindy ['fun', 'demo']\n",
      "Mike ['demo', 'political']\n",
      "Alice ['important', 'random']\n",
      "Bobby ['random', 'BYU']\n",
      "Mike ['personal', 'insight']\n",
      "Bobby ['stupid', 'fun']\n",
      "Cindy ['political', 'personal']\n",
      "Mike ['personal', 'insight']\n",
      "Alice ['important', 'fun']\n"
     ]
    }
   ],
   "source": [
    "#find posts with only 1 tag in the tags field.  Note that $size uses a specific #\n",
    "for post in posts.find({'tags':{'$size':2}}):\n",
    "    print (post['author'],post['tags'])"
   ]
  },
  {
   "cell_type": "code",
   "execution_count": 220,
   "metadata": {
    "collapsed": false
   },
   "outputs": [
    {
     "data": {
      "text/plain": [
       "<pymongo.results.DeleteResult at 0x108898c18>"
      ]
     },
     "execution_count": 220,
     "metadata": {},
     "output_type": "execute_result"
    }
   ],
   "source": [
    "#remove posts with only one tag\n",
    "posts.delete_many({'tags':{'$size':1}})"
   ]
  }
 ],
 "metadata": {
  "anaconda-cloud": {},
  "kernelspec": {
   "display_name": "Python [Root]",
   "language": "python",
   "name": "Python [Root]"
  },
  "language_info": {
   "codemirror_mode": {
    "name": "ipython",
    "version": 3
   },
   "file_extension": ".py",
   "mimetype": "text/x-python",
   "name": "python",
   "nbconvert_exporter": "python",
   "pygments_lexer": "ipython3",
   "version": "3.5.2"
  }
 },
 "nbformat": 4,
 "nbformat_minor": 0
}
