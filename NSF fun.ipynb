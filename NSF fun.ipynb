{
 "cells": [
  {
   "cell_type": "code",
   "execution_count": null,
   "metadata": {
    "collapsed": false
   },
   "outputs": [],
   "source": [
    "#PURPOSE: To scrape the NSF database for STEM-related entries\n",
    "# use: http://nsf.gov/awardsearch/advancedSearch.jsp to search their db\n",
    "# Reference code: 8818 (STEM Learning Environments) and 8817 (STEM Learning)\n",
    "# Keyword: STEM\n",
    "\n",
    "\n",
    "### Form fields that I'll need ###\n",
    "# Keyword: name=\"Keyword\"\n",
    "# Active Awards checkbox: name=\"ActiveAwards\"\n",
    "# Expired Awards checkbox: name = \"ExpliredAwards\"\n",
    "# Original Award date: name=\"OriginalAwardDateFrom\" and name = \"OriginalAwardDateTo\"\n",
    "# Original Award date select list: name=\"OriginalAwardDateOperator\"; options = \"Find dates within a range\", \"find dates on or before\", find dates on or after\n",
    "# Start Date & End Date fields follow same pattern as Original Award Date.\n",
    "# dates are in form \"mm/dd/yyyy\"\n",
    "\n",
    "#running this search query produces up to 3,000 results.  Can export those results in CSV, XML, Excel or txt.  \n",
    "# May just be better to run the query and retrieve the appropriate file.\n",
    "# \n",
    "print(\"Hello\")"
   ]
  },
  {
   "cell_type": "code",
   "execution_count": null,
   "metadata": {
    "collapsed": true
   },
   "outputs": [],
   "source": []
  }
 ],
 "metadata": {
  "anaconda-cloud": {},
  "kernelspec": {
   "display_name": "Python [Root]",
   "language": "python",
   "name": "Python [Root]"
  },
  "language_info": {
   "codemirror_mode": {
    "name": "ipython",
    "version": 3
   },
   "file_extension": ".py",
   "mimetype": "text/x-python",
   "name": "python",
   "nbconvert_exporter": "python",
   "pygments_lexer": "ipython3",
   "version": "3.5.2"
  }
 },
 "nbformat": 4,
 "nbformat_minor": 0
}
