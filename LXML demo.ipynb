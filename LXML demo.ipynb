{
 "cells": [
  {
   "cell_type": "code",
   "execution_count": 55,
   "metadata": {
    "collapsed": false
   },
   "outputs": [
    {
     "name": "stdout",
     "output_type": "stream",
     "text": [
      "assessmentItem\n"
     ]
    }
   ],
   "source": [
    "#XML Demo #2\n",
    "xmlFile = 'MultipleChoiceClozeExample.xml'\n",
    "from lxml import etree as ET\n",
    "root = ET.Element(\"assessmentItem\")\n",
    "print (root.tag)\n",
    "root.append(ET.Element(\"test\"))"
   ]
  }
 ],
 "metadata": {
  "anaconda-cloud": {}
 },
 "nbformat": 4,
 "nbformat_minor": 0
}
